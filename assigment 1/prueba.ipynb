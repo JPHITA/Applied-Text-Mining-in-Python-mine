{
 "cells": [
  {
   "cell_type": "code",
   "execution_count": 1,
   "metadata": {},
   "outputs": [],
   "source": [
    "import numpy as np\n",
    "import pandas as pd\n",
    "import matplotlib.pyplot as plt"
   ]
  },
  {
   "cell_type": "code",
   "execution_count": 117,
   "metadata": {},
   "outputs": [],
   "source": [
    "doc = []\n",
    "with open('dates.txt') as file:\n",
    "    for line in file:\n",
    "        doc.append(line)\n",
    "\n",
    "df = pd.Series(doc)"
   ]
  },
  {
   "cell_type": "code",
   "execution_count": 118,
   "metadata": {},
   "outputs": [
    {
     "name": "stderr",
     "output_type": "stream",
     "text": [
      "C:\\Users\\jnico\\AppData\\Local\\Temp/ipykernel_6116/2207499151.py:9: UserWarning: This pattern has match groups. To actually get the groups, use str.extract.\n",
      "  df2 = df2[ ~df2.str.contains(patron) ]\n",
      "C:\\Users\\jnico\\AppData\\Local\\Temp/ipykernel_6116/2207499151.py:14: UserWarning: This pattern has match groups. To actually get the groups, use str.extract.\n",
      "  df2 = df2[ ~df2.str.contains(patron) ]\n",
      "C:\\Users\\jnico\\AppData\\Local\\Temp/ipykernel_6116/2207499151.py:19: UserWarning: This pattern has match groups. To actually get the groups, use str.extract.\n",
      "  df2 = df2[ ~df2.str.contains(patron) ]\n",
      "C:\\Users\\jnico\\AppData\\Local\\Temp/ipykernel_6116/2207499151.py:32: UserWarning: This pattern has match groups. To actually get the groups, use str.extract.\n",
      "  df2 = df2[ ~df2.str.contains(patron) ]\n",
      "C:\\Users\\jnico\\AppData\\Local\\Temp/ipykernel_6116/2207499151.py:37: UserWarning: This pattern has match groups. To actually get the groups, use str.extract.\n",
      "  df2 = df2[ ~df2.str.contains(patron) ]\n",
      "C:\\Users\\jnico\\AppData\\Local\\Temp/ipykernel_6116/2207499151.py:42: UserWarning: This pattern has match groups. To actually get the groups, use str.extract.\n",
      "  df2 = df2[ ~df2.str.contains(patron) ]\n"
     ]
    }
   ],
   "source": [
    "df2 = df.copy()\n",
    "df2 = df2.str.replace(r\"(?<![\\d\\/\\-])\\d(?![\\d\\/\\-])\", \"\", regex=True)\n",
    "\n",
    "dates = []\n",
    "\n",
    "# patron 0 - 125\n",
    "patron = r\"(\\d{1,2})(?:\\/{1}|-{1})(\\d{1,2})(?:\\/{1}|-{1})(\\d{2}|\\d{4})(?![\\d])\"\n",
    "dates.append( df2.str.extractall(patron) )\n",
    "df2 = df2[ ~df2.str.contains(patron) ]\n",
    "\n",
    "# # patron 1 - 34\n",
    "patron = r\"(January|February|March|April|May|June|July|August|September|October|November|December|Jan|Feb|Mar|Apr|May|Jun|Jul|Aug|Sep|Oct|Nov|Dec)(?:[- \\.]+)(\\d{1,2})(?:[- \\.,]+)(\\d{4})\"\n",
    "dates.append( df2.str.extractall(patron) )\n",
    "df2 = df2[ ~df2.str.contains(patron) ]\n",
    "\n",
    "# patron 2 - 69\n",
    "patron = r\"(\\d{1,2})(?:[ ]+)(January|February|March|April|May|June|July|August|September|October|November|December|Jan|Feb|Mar|Apr|May|Jun|Jul|Aug|Sep|Oct|Nov|Dec)(?:[ \\.,]+)(\\d{4})\"\n",
    "dates.append( df2.str.extractall(patron) )\n",
    "df2 = df2[ ~df2.str.contains(patron) ]\n",
    "\n",
    "# cuarto patron 0\n",
    "# patron = r\"(january|february|march|april|may|june|july|august|september|october|november|december|jan|feb|mar|apr|may|jun|jul|aug|sep|oct|nov|dec)(?:[ ,]+)(\\d{1,2})(?:[a-zA-Z]{2}[, ]+)(\\d{4})\"\n",
    "# dates.append( df2.str.extractall(patron) )\n",
    "# df2 = df2[ ~df2.str.contains(patron) ]\n",
    "# dates[3].rename(columns={0:\"day\", 1:\"month\", 2:\"year\"}, inplace=True)\n",
    "# dates[3].reset_index(inplace=True)\n",
    "# dates[3] = pd.to_datetime(dates[3][\"day\"] + \"-\" + dates[3][\"month\"] + \"-\" + dates[3][\"year\"])\n",
    "\n",
    "# patron 3 - 113\n",
    "patron = r\"(January|February|March|April|May|June|July|August|September|October|November|December|Jan|Feb|Mar|Apr|May|Jun|Jul|Aug|Sep|Oct|Nov|Dec)(?: +|[, ]+)(\\d{4})\"\n",
    "dates.append( df2.str.extractall(patron) )\n",
    "df2 = df2[ ~df2.str.contains(patron) ]\n",
    "\n",
    "# patron 4 - 112\n",
    "patron = r\"(\\d{1,2})(?:\\/{1})(\\d{4})\"\n",
    "dates.append( df2.str.extractall(patron) )\n",
    "df2 = df2[ ~df2.str.contains(patron) ]\n",
    "\n",
    "# patron 5\n",
    "patron = r\"(\\d{4})\"\n",
    "dates.append( df2.str.extractall(patron) )\n",
    "df2 = df2[ ~df2.str.contains(patron) ]\n",
    "# # //////////////////////////////////////////////////////////////////////////////////////////////////////////////////\n",
    "dates[0].rename(columns={0:\"month\", 1:\"day\", 2:\"year\"}, inplace=True)\n",
    "# dates[0] = dates[0].droplevel(\"match\")\n",
    "\n",
    "dates[0][\"year\"] = dates[0][\"year\"].apply(lambda year: \"19\"+year if len(year) == 2 else year)\n",
    "dates[0][\"month\"] = dates[0][\"month\"].apply(lambda month: \"0\"+month if len(month) == 1 else month)\n",
    "dates[0][\"day\"] = dates[0][\"day\"].apply(lambda day: \"0\"+day if len(day) == 1 else day)\n",
    "\n",
    "dates[0] = pd.to_datetime(dates[0][\"day\"] + \"-\" + dates[0][\"month\"] + \"-\" + dates[0][\"year\"], format=\"%d-%m-%Y\")\n",
    "# # //////////////////////////////////////////////////////////////////////////////////////////////////////////////////\n",
    "dates[1].rename(columns={0:\"month\", 1:\"day\", 2:\"year\"}, inplace=True)\n",
    "# dates[1] = dates[1].droplevel(\"match\")\n",
    "\n",
    "from calendar import month_name, month_abbr\n",
    "monthConversion = dict(zip(month_abbr, month_name))\n",
    "dates[1][\"month\"] = dates[1][\"month\"].apply(lambda month: monthConversion[month] if len(month) == 3 else month)\n",
    "\n",
    "dates[1] = pd.to_datetime(dates[1][\"day\"] + \"-\" + dates[1][\"month\"] + \"-\" + dates[1][\"year\"], format=\"%d-%B-%Y\")\n",
    "# # //////////////////////////////////////////////////////////////////////////////////////////////////////////////////\n",
    "dates[2].rename(columns={0:\"day\", 1:\"month\", 2:\"year\"}, inplace=True)\n",
    "# dates[2] = dates[2].droplevel(\"match\")\n",
    "\n",
    "dates[2][\"month\"] = dates[2][\"month\"].apply(lambda month: monthConversion[month] if len(month) == 3 else month)\n",
    "\n",
    "dates[2] = pd.to_datetime(dates[2][\"day\"] + \"-\" + dates[2][\"month\"] + \"-\" + dates[2][\"year\"], format=\"%d-%B-%Y\")\n",
    "# # //////////////////////////////////////////////////////////////////////////////////////////////////////////////////\n",
    "dates[3].rename(columns={0:\"month\", 1:\"year\"}, inplace=True)\n",
    "# dates[3] = dates[3].droplevel(\"match\")\n",
    "\n",
    "dates[3][\"month\"] = dates[3][\"month\"].apply(lambda month: monthConversion[month] if len(month) == 3 else month)\n",
    "\n",
    "dates[3] = pd.to_datetime(\"01\" + \"-\" + dates[3][\"month\"] + \"-\" + dates[3][\"year\"], format=\"%d-%B-%Y\")\n",
    "# # //////////////////////////////////////////////////////////////////////////////////////////////////////////////////\n",
    "dates[4].rename(columns={0:\"month\", 1:\"year\"}, inplace=True)\n",
    "# dates[4] = dates[4].droplevel(\"match\")\n",
    "\n",
    "dates[4][\"month\"] = dates[4][\"month\"].apply(lambda month: \"0\"+month if len(month) == 1 else month)\n",
    "\n",
    "dates[4] = pd.to_datetime(\"01\" + \"-\" + dates[4][\"month\"] + \"-\" + dates[4][\"year\"], format=\"%d-%m-%Y\")\n",
    "# # //////////////////////////////////////////////////////////////////////////////////////////////////////////////////\n",
    "dates[5].rename(columns={0:\"year\"}, inplace=True)\n",
    "# dates[5] = dates[5].droplevel(\"match\")\n",
    "dates[5] = pd.to_datetime(\"01\" + \"-\" + \"01\" + \"-\" + dates[5][\"year\"], format=\"%d-%m-%Y\")\n",
    "# # //////////////////////////////////////////////////////////////////////////////////////////////////////////////////\n",
    "\n",
    "\n",
    "dates = pd.concat(dates)\n",
    "\n",
    "dates.sort_values(inplace=True)\n",
    "\n",
    "# prueba = pd.Series(map(lambda x: x[0], prueba.index))"
   ]
  },
  {
   "cell_type": "code",
   "execution_count": 119,
   "metadata": {},
   "outputs": [
    {
     "data": {
      "text/plain": [
       "0        9\n",
       "1       84\n",
       "2        2\n",
       "3       53\n",
       "4       28\n",
       "      ... \n",
       "495    427\n",
       "496    141\n",
       "497    186\n",
       "498    161\n",
       "499    413\n",
       "Length: 500, dtype: int64"
      ]
     },
     "execution_count": 119,
     "metadata": {},
     "output_type": "execute_result"
    }
   ],
   "source": [
    "pd.Series(map(lambda x: x[0], dates.index))"
   ]
  },
  {
   "cell_type": "code",
   "execution_count": 96,
   "metadata": {},
   "outputs": [
    {
     "data": {
      "text/plain": [
       "0        9\n",
       "1       84\n",
       "2        2\n",
       "3       53\n",
       "4       28\n",
       "      ... \n",
       "495    427\n",
       "496    141\n",
       "497    186\n",
       "498    161\n",
       "499    413\n",
       "Length: 500, dtype: int64"
      ]
     },
     "execution_count": 96,
     "metadata": {},
     "output_type": "execute_result"
    }
   ],
   "source": [
    "pd.Series(dates.index)"
   ]
  }
 ],
 "metadata": {
  "interpreter": {
   "hash": "ad2bdc8ecc057115af97d19610ffacc2b4e99fae6737bb82f5d7fb13d2f2c186"
  },
  "kernelspec": {
   "display_name": "Python 3.9.7 ('base')",
   "language": "python",
   "name": "python3"
  },
  "language_info": {
   "codemirror_mode": {
    "name": "ipython",
    "version": 3
   },
   "file_extension": ".py",
   "mimetype": "text/x-python",
   "name": "python",
   "nbconvert_exporter": "python",
   "pygments_lexer": "ipython3",
   "version": "3.9.7"
  },
  "orig_nbformat": 4
 },
 "nbformat": 4,
 "nbformat_minor": 2
}
